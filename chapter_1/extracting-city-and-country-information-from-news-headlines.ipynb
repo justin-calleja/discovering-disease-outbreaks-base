{
 "cells": [
  {
   "cell_type": "markdown",
   "metadata": {},
   "source": [
    "### Get all country names in list"
   ]
  },
  {
   "cell_type": "code",
   "execution_count": null,
   "metadata": {
    "scrolled": true
   },
   "outputs": [],
   "source": [
    "import geonamescache\n",
    "import re\n",
    "gc = geonamescache.GeonamesCache()\n",
    "\n",
    "countries = list(gc.get_countries_by_names().keys())\n",
    "\n",
    "print(countries)"
   ]
  },
  {
   "cell_type": "markdown",
   "metadata": {},
   "source": [
    "### Get all city names in list\n",
    "\n",
    "#### Make equivalent list with word boundary regex"
   ]
  },
  {
   "cell_type": "code",
   "execution_count": null,
   "metadata": {},
   "outputs": [],
   "source": [
    "import geonamescache\n",
    "import re\n",
    "gc = geonamescache.GeonamesCache()\n",
    "\n",
    "cities = gc.get_cities()\n",
    "city_names = [cities[key]['name'] for key in list(cities.keys())]\n",
    "\n",
    "city_name_res = [re.compile('\\\\b{}\\\\b'.format(name), flags=re.IGNORECASE) for name in city_names]\n",
    "city_name_res"
   ]
  },
  {
   "cell_type": "markdown",
   "metadata": {},
   "source": [
    "### Get all US state names in list\n",
    "#### Make equivalent list with word boundary regex"
   ]
  },
  {
   "cell_type": "code",
   "execution_count": null,
   "metadata": {},
   "outputs": [],
   "source": [
    "import geonamescache\n",
    "import re\n",
    "gc = geonamescache.GeonamesCache()\n",
    "\n",
    "us_states = gc.get_us_states()\n",
    "\n",
    "us_state_names = [us_states[key]['name'] for key in list(us_states.keys())]\n",
    "us_state_names\n",
    "\n",
    "us_state_name_res = [re.compile('\\\\b{}\\\\b'.format(name), flags=re.IGNORECASE) for name in us_state_names]\n",
    "us_state_name_res"
   ]
  },
  {
   "cell_type": "markdown",
   "metadata": {},
   "source": [
    "### Get all US counties as dicts (with name and state keys) in list\n",
    "#### Make equivalent list with word boundary regex (with and without \" County\")"
   ]
  },
  {
   "cell_type": "code",
   "execution_count": null,
   "metadata": {},
   "outputs": [],
   "source": [
    "import geonamescache\n",
    "import re\n",
    "gc = geonamescache.GeonamesCache()\n",
    "\n",
    "us_counties = gc.get_us_counties()\n",
    "# Keep as is to have name and state\n",
    "us_counties\n",
    "\n",
    "us_county_res = [re.compile('\\\\b({}|{})\\\\b'.format(county_dict['name'], county_dict['name'][:-7]), flags=re.IGNORECASE) for county_dict in us_counties]\n",
    "us_county_res"
   ]
  },
  {
   "cell_type": "markdown",
   "metadata": {},
   "source": [
    "### Get headlines in list"
   ]
  },
  {
   "cell_type": "code",
   "execution_count": null,
   "metadata": {},
   "outputs": [],
   "source": [
    "import os\n",
    "\n",
    "headlines_path = os.path.join('..', 'data', 'headlines.txt')\n",
    "headlines_file = open(headlines_path, \"r\")\n",
    "headlines_str = headlines_file.read()\n",
    "headlines_list = headlines_str.split('\\n')\n",
    "headlines_list"
   ]
  },
  {
   "cell_type": "code",
   "execution_count": null,
   "metadata": {},
   "outputs": [],
   "source": []
  }
 ],
 "metadata": {
  "kernelspec": {
   "display_name": "Python 3",
   "language": "python",
   "name": "python3"
  },
  "language_info": {
   "codemirror_mode": {
    "name": "ipython",
    "version": 3
   },
   "file_extension": ".py",
   "mimetype": "text/x-python",
   "name": "python",
   "nbconvert_exporter": "python",
   "pygments_lexer": "ipython3",
   "version": "3.7.6"
  }
 },
 "nbformat": 4,
 "nbformat_minor": 4
}
