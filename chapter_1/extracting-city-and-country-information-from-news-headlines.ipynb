{
 "cells": [
  {
   "cell_type": "markdown",
   "metadata": {},
   "source": [
    "### Get countries and make regexes out of them"
   ]
  },
  {
   "cell_type": "code",
   "execution_count": null,
   "metadata": {},
   "outputs": [],
   "source": [
    "import geonamescache\n",
    "import re\n",
    "gc = geonamescache.GeonamesCache()\n",
    "\n",
    "gc_countries = gc.get_countries()\n",
    "countries = list(gc_countries.values())\n",
    "\n",
    "country_res = [re.compile('\\\\b{}\\\\b'.format(country['name']), flags=re.IGNORECASE) for country in countries]\n",
    "country_res"
   ]
  },
  {
   "cell_type": "markdown",
   "metadata": {},
   "source": [
    "### Get cities and make regexes out of them"
   ]
  },
  {
   "cell_type": "code",
   "execution_count": null,
   "metadata": {},
   "outputs": [],
   "source": [
    "import geonamescache\n",
    "import re\n",
    "gc = geonamescache.GeonamesCache()\n",
    "\n",
    "gc_cities = gc.get_cities()\n",
    "cities = list(gc_cities.values())\n",
    "\n",
    "city_res = [re.compile('\\\\b{}\\\\b'.format(city['name']), flags=re.IGNORECASE) for city in cities]\n",
    "city_res"
   ]
  },
  {
   "cell_type": "markdown",
   "metadata": {},
   "source": [
    "### Get all US states and make regexes out of them"
   ]
  },
  {
   "cell_type": "code",
   "execution_count": null,
   "metadata": {},
   "outputs": [],
   "source": [
    "import geonamescache\n",
    "import re\n",
    "gc = geonamescache.GeonamesCache()\n",
    "\n",
    "gc_us_states = gc.get_us_states()\n",
    "us_states = list(gc_us_states.values())\n",
    "\n",
    "us_state_res = [re.compile('\\\\b{}\\\\b'.format(us_state['name']), flags=re.IGNORECASE) for us_state in us_states]"
   ]
  },
  {
   "cell_type": "markdown",
   "metadata": {},
   "source": [
    "### Get all US counties and make regexes out of them\n",
    "#### Check if county ends with ' County' - if so regex for county X should be r'\\b(X County|X)\\b'"
   ]
  },
  {
   "cell_type": "code",
   "execution_count": null,
   "metadata": {},
   "outputs": [],
   "source": [
    "import geonamescache\n",
    "import re\n",
    "gc = geonamescache.GeonamesCache()\n",
    "\n",
    "us_counties = gc.get_us_counties()\n",
    "\n",
    "us_county_res = list()\n",
    "for county_dict in us_counties:\n",
    "    if county_dict['name'][-7:] == ' County':\n",
    "        us_county_res.append(re.compile('\\\\b({}|{})\\\\b'.format(county_dict['name'], county_dict['name'][:-7]), flags=re.IGNORECASE))\n",
    "    else:\n",
    "        us_county_res.append(re.compile('\\\\b{}\\\\b'.format(county_dict['name']), flags=re.IGNORECASE))\n",
    "\n",
    "us_county_res"
   ]
  },
  {
   "cell_type": "markdown",
   "metadata": {},
   "source": [
    "### Get headlines in list"
   ]
  },
  {
   "cell_type": "code",
   "execution_count": null,
   "metadata": {},
   "outputs": [],
   "source": [
    "import os\n",
    "\n",
    "headlines_path = os.path.join('..', 'data', 'headlines.txt')\n",
    "headlines_file = open(headlines_path, \"r\")\n",
    "headlines_str = headlines_file.read()\n",
    "headlines_list = headlines_str.split('\\n')\n",
    "headlines_list"
   ]
  },
  {
   "cell_type": "markdown",
   "metadata": {},
   "source": [
    "### Create a factory to avoid repeating same logic to match with various regexes\n",
    "    "
   ]
  },
  {
   "cell_type": "code",
   "execution_count": null,
   "metadata": {},
   "outputs": [],
   "source": [
    "def match_line_factory(regex_list, associated_list):\n",
    "    def match_line(line):\n",
    "        matches = list()\n",
    "        for i in range(len(regex_list)):\n",
    "            regex = regex_list[i]\n",
    "            match = regex.search(line)\n",
    "            if match: matches.append((line, match, regex, associated_list[i]))\n",
    "        return matches\n",
    "    return match_line\n"
   ]
  },
  {
   "cell_type": "markdown",
   "metadata": {},
   "source": [
    "### Match each line in headlines with the various regexes\n",
    "#### result of match: (line, match, regex, regex_data_source)\n",
    "#### final data dict: each key has list of \"result of match\""
   ]
  },
  {
   "cell_type": "code",
   "execution_count": null,
   "metadata": {
    "scrolled": true
   },
   "outputs": [],
   "source": [
    "match_country = match_line_factory(country_res, countries)\n",
    "match_city = match_line_factory(city_res, cities)\n",
    "match_us_state = match_line_factory(us_state_res, us_states)\n",
    "match_us_county = match_line_factory(us_county_res, us_counties)\n",
    "\n",
    "country_matches = list()\n",
    "city_matches = list()\n",
    "us_state_matches= list()\n",
    "us_county_matches = list()\n",
    "for line in headlines_list:\n",
    "    country_match = match_country(line)\n",
    "    if len(country_match): country_matches.append(country_match)\n",
    "    city_match = match_city(line)\n",
    "    if len(city_match): city_matches.append(city_match)\n",
    "    us_state_match = match_us_state(line)\n",
    "    if len(us_state_match): us_state_matches.append(us_state_match)\n",
    "    us_county_match = match_us_county(line)\n",
    "    if len(us_county_match): us_county_matches.append(us_county_match)\n",
    "\n",
    "data = {}\n",
    "data['country_matches'] = country_matches\n",
    "data['city_matches'] = city_matches\n",
    "data['us_state_matches'] = us_state_matches\n",
    "data['us_county_matches'] = us_county_matches\n",
    "\n",
    "data"
   ]
  },
  {
   "cell_type": "code",
   "execution_count": null,
   "metadata": {},
   "outputs": [],
   "source": [
    "data['country_matches']"
   ]
  },
  {
   "cell_type": "code",
   "execution_count": null,
   "metadata": {},
   "outputs": [],
   "source": [
    "data['city_matches']"
   ]
  }
 ],
 "metadata": {
  "kernelspec": {
   "display_name": "Python 3",
   "language": "python",
   "name": "python3"
  },
  "language_info": {
   "codemirror_mode": {
    "name": "ipython",
    "version": 3
   },
   "file_extension": ".py",
   "mimetype": "text/x-python",
   "name": "python",
   "nbconvert_exporter": "python",
   "pygments_lexer": "ipython3",
   "version": "3.7.6"
  }
 },
 "nbformat": 4,
 "nbformat_minor": 4
}
